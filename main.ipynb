{
  "nbformat": 4,
  "nbformat_minor": 0,
  "metadata": {
    "colab": {
      "name": "Untitled4.ipynb",
      "provenance": [],
      "collapsed_sections": []
    },
    "kernelspec": {
      "name": "python3",
      "display_name": "Python 3"
    },
    "language_info": {
      "name": "python"
    },
    "accelerator": "GPU"
  },
  "cells": [
    {
      "cell_type": "markdown",
      "source": [
        "# **Initialization:**"
      ],
      "metadata": {
        "id": "gw0YTipfgzP7"
      }
    },
    {
      "cell_type": "code",
      "execution_count": null,
      "metadata": {
        "id": "bfmBECvKub9t"
      },
      "outputs": [],
      "source": [
        "!git clone https://github.com/ultralytics/yolov5 "
      ]
    },
    {
      "cell_type": "code",
      "source": [
        "%cd yolov5\n",
        "!pip install -r requirements.txt "
      ],
      "metadata": {
        "id": "4CQClzLXuii0"
      },
      "execution_count": null,
      "outputs": []
    },
    {
      "cell_type": "code",
      "source": [
        "# import dataset from google drive\n",
        "from google.colab import drive\n",
        "drive.mount('/content/gdrive')\n",
        "!ln -s /content/gdrive/My\\ Drive/ /mydrive\n",
        "!ls /mydrive\n"
      ],
      "metadata": {
        "id": "BEjHphQWvYyl"
      },
      "execution_count": null,
      "outputs": []
    },
    {
      "cell_type": "code",
      "source": [
        "!cp -rf /mydrive/last.pt ../yolov5/weights.pt"
      ],
      "metadata": {
        "id": "BZU5zOw063N2"
      },
      "execution_count": null,
      "outputs": []
    },
    {
      "cell_type": "code",
      "source": [
        "!unzip /mydrive/newPack.zip -d data"
      ],
      "metadata": {
        "id": "TNq0YTXfxv3V"
      },
      "execution_count": null,
      "outputs": []
    },
    {
      "cell_type": "code",
      "source": [
        "!cp /mydrive/last.pt data/last_trained.pt"
      ],
      "metadata": {
        "id": "ulkzJoe9hVMt"
      },
      "execution_count": null,
      "outputs": []
    },
    {
      "cell_type": "code",
      "source": [
        "!unzip /mydrive/extra.zip -d data/images/extra_test"
      ],
      "metadata": {
        "id": "cMOJgJ9WK-L7"
      },
      "execution_count": null,
      "outputs": []
    },
    {
      "cell_type": "markdown",
      "source": [
        "# **split train and test files:**"
      ],
      "metadata": {
        "id": "9w1b9n3x0RnK"
      }
    },
    {
      "cell_type": "code",
      "source": [
        "import os\n",
        "import glob\n",
        "import random\n",
        "import shutil"
      ],
      "metadata": {
        "id": "E8tovU15y0nk"
      },
      "execution_count": null,
      "outputs": []
    },
    {
      "cell_type": "code",
      "source": [
        "!rm -rf data/images\n",
        "!rm -rf data/labels\n",
        "\n",
        "!mkdir data/images\n",
        "!mkdir data/images/test\n",
        "!mkdir data/images/train\n",
        "\n",
        "!mkdir data/labels\n",
        "!mkdir data/labels/test\n",
        "!mkdir data/labels/train"
      ],
      "metadata": {
        "id": "-3HGT9xnzUKJ"
      },
      "execution_count": null,
      "outputs": []
    },
    {
      "cell_type": "code",
      "source": [
        "image_list = list()\n",
        "label_list = list()\n",
        "total_tuples = list()\n",
        "\n",
        "total = glob.glob('data/newPack/*')\n",
        "total.sort()\n",
        "\n",
        "for i in range(0, len(total)-1, 2):\n",
        "  total_tuples.append((total[i], total[i+1]))\n",
        "\n",
        "# # validate list:\n",
        "# for tpl in total_tuples:\n",
        "#   if tpl[0][13: 23] != tpl[1][13: 23]:\n",
        "#     print(\"ERROR\")\n",
        "\n",
        "random.shuffle(total_tuples)\n",
        "\n",
        "num = 1085\n",
        "for i in range(num):\n",
        "  # IMG\n",
        "  src = total_tuples[i][0]\n",
        "  dst = 'data/images/train/'+src[13:]\n",
        "  shutil.copyfile(src, dst)\n",
        "  # LBL\n",
        "  src = total_tuples[i][1]\n",
        "  dst = 'data/labels/train/'+src[13:]\n",
        "  shutil.copyfile(src, dst)\n",
        "\n",
        "for i in range(num, 1550):\n",
        "  # IMG\n",
        "  src = total_tuples[i][0]\n",
        "  dst = 'data/images/test/'+src[13:]\n",
        "  shutil.copyfile(src, dst)\n",
        "  # LBL\n",
        "  src = total_tuples[i][1]\n",
        "  dst = 'data/labels/test/'+src[13:]\n",
        "  shutil.copyfile(src, dst)"
      ],
      "metadata": {
        "id": "khzKVfYvzRl3"
      },
      "execution_count": null,
      "outputs": []
    },
    {
      "cell_type": "code",
      "source": [
        "# Check Distributions\n",
        "\n",
        "alls = glob.glob('data/newPack/*.jpg')\n",
        "trains = glob.glob('data/images/train/*')\n",
        "tests = glob.glob('data/images/test/*')\n",
        "nums = ['1', '2', '3', '4', '5', '6', '7', '8', '9', '0']\n",
        "\n",
        "cnt = 0\n",
        "for all in alls:\n",
        "  if all[13] in nums:\n",
        "    cnt += 1\n",
        "all_per = 100 * cnt / len(alls)\n",
        "\n",
        "\n",
        "cnt = 0\n",
        "for test in tests:\n",
        "  if test[18] in nums:\n",
        "    cnt += 1\n",
        "test_per = 100 * cnt / len(tests)\n",
        "\n",
        "cnt = 0\n",
        "for train in trains:\n",
        "  if train[19] in nums:\n",
        "    cnt += 1\n",
        "train_per = 100 * cnt / len(trains)\n",
        "\n",
        "print(all_per, test_per, train_per)"
      ],
      "metadata": {
        "colab": {
          "base_uri": "https://localhost:8080/"
        },
        "id": "IoznwDy58d7q",
        "outputId": "f6d21ca0-969d-416e-9680-c47bd9efa564"
      },
      "execution_count": null,
      "outputs": [
        {
          "output_type": "stream",
          "name": "stdout",
          "text": [
            "58.064516129032256 57.204301075268816 58.433179723502306\n"
          ]
        }
      ]
    },
    {
      "cell_type": "markdown",
      "source": [
        "# **train and test and visualization model:**"
      ],
      "metadata": {
        "id": "r0Q2-Iosg_Ac"
      }
    },
    {
      "cell_type": "code",
      "source": [
        "!rm -rf runs/train/yolo_idcard32"
      ],
      "metadata": {
        "id": "-4VqyYWdEk2h"
      },
      "execution_count": null,
      "outputs": []
    },
    {
      "cell_type": "code",
      "source": [
        "# TRAIN\n",
        "!python train.py --img 640 --cfg data/yolov5s.yaml --batch 64 --epochs 100 --data idcard_data.yaml --weights yolov5s.pt --name yolo_idcard3 --cache"
      ],
      "metadata": {
        "id": "v8BZPi6U1TFK"
      },
      "execution_count": null,
      "outputs": []
    },
    {
      "cell_type": "code",
      "source": [
        "# Free Space!"
      ],
      "metadata": {
        "id": "JjJkQezAkuVb"
      },
      "execution_count": null,
      "outputs": []
    },
    {
      "cell_type": "code",
      "source": [
        "# TEST\n",
        "!python val.py --data idcard_data.yaml --weights runs/train/yolo_idcard35/weights/last.pt --name yolo_idcard3 --task val"
      ],
      "metadata": {
        "id": "-Ing7O836Vus"
      },
      "execution_count": null,
      "outputs": []
    },
    {
      "cell_type": "code",
      "source": [
        "# Visualize\n",
        "from utils.plots import plot_results\n",
        "plot_results('results.csv')"
      ],
      "metadata": {
        "id": "ry3ZkklLOjRy"
      },
      "execution_count": null,
      "outputs": []
    },
    {
      "cell_type": "code",
      "source": [
        "# DETECT\n",
        "\n",
        "# import timeit\n",
        "# start = timeit.default_timer()\n",
        "\n",
        "!python detect.py --source 02.jpeg --weights weights_last.pt --name idcard_detect\n",
        "\n",
        "# stop = timeit.default_timer()\n",
        "# print('Time: ', stop - start)"
      ],
      "metadata": {
        "id": "Wd_bqmN2OqQo"
      },
      "execution_count": null,
      "outputs": []
    },
    {
      "cell_type": "code",
      "source": [
        "!cp -r runs/detect/ /mydrive/YOLOv5Performance/new_detect"
      ],
      "metadata": {
        "id": "xKX0PqEXI4qC"
      },
      "execution_count": null,
      "outputs": []
    },
    {
      "cell_type": "code",
      "source": [
        "!mkdir /mydrive/YOLOv5Performance/200e/val"
      ],
      "metadata": {
        "id": "u-gmHUUBZWL0"
      },
      "execution_count": null,
      "outputs": []
    },
    {
      "cell_type": "code",
      "source": [
        "!rm -rf runs/detect/yolo_idcard_extra2"
      ],
      "metadata": {
        "id": "L_WQ4qclZ-Ut"
      },
      "execution_count": null,
      "outputs": []
    },
    {
      "cell_type": "code",
      "source": [
        ""
      ],
      "metadata": {
        "id": "Aa4hT09BjkIp"
      },
      "execution_count": null,
      "outputs": []
    },
    {
      "cell_type": "markdown",
      "source": [
        "# **OCR:**"
      ],
      "metadata": {
        "id": "c4wn0hS1Id_f"
      }
    },
    {
      "cell_type": "code",
      "source": [
        "!pip uninstall imgaug"
      ],
      "metadata": {
        "id": "IDX_ug554fHx"
      },
      "execution_count": null,
      "outputs": []
    },
    {
      "cell_type": "code",
      "source": [
        "!pip install pytesseract"
      ],
      "metadata": {
        "id": "jnLGe1e14SHT",
        "outputId": "fc8ffe9f-bb9d-4d82-ad68-3a186ce98f8e",
        "colab": {
          "base_uri": "https://localhost:8080/",
          "height": 351
        }
      },
      "execution_count": null,
      "outputs": [
        {
          "output_type": "stream",
          "name": "stdout",
          "text": [
            "Collecting pytesseract\n",
            "  Downloading pytesseract-0.3.9-py2.py3-none-any.whl (14 kB)\n",
            "Collecting Pillow>=8.0.0\n",
            "  Downloading Pillow-9.1.0-cp37-cp37m-manylinux_2_17_x86_64.manylinux2014_x86_64.whl (4.3 MB)\n",
            "\u001b[K     |████████████████████████████████| 4.3 MB 5.1 MB/s \n",
            "\u001b[?25hRequirement already satisfied: packaging>=21.3 in /usr/local/lib/python3.7/dist-packages (from pytesseract) (21.3)\n",
            "Requirement already satisfied: pyparsing!=3.0.5,>=2.0.2 in /usr/local/lib/python3.7/dist-packages (from packaging>=21.3->pytesseract) (3.0.8)\n",
            "Installing collected packages: Pillow, pytesseract\n",
            "  Attempting uninstall: Pillow\n",
            "    Found existing installation: Pillow 7.1.2\n",
            "    Uninstalling Pillow-7.1.2:\n",
            "      Successfully uninstalled Pillow-7.1.2\n",
            "Successfully installed Pillow-9.1.0 pytesseract-0.3.9\n"
          ]
        },
        {
          "output_type": "display_data",
          "data": {
            "application/vnd.colab-display-data+json": {
              "pip_warning": {
                "packages": [
                  "PIL"
                ]
              }
            }
          },
          "metadata": {}
        }
      ]
    },
    {
      "cell_type": "code",
      "source": [
        "!sudo apt-get install tesseract-ocr-fas"
      ],
      "metadata": {
        "id": "DJD9fUozLwXS"
      },
      "execution_count": null,
      "outputs": []
    },
    {
      "cell_type": "code",
      "source": [
        "from PIL import Image\n",
        "import pytesseract\n",
        "import cv2 as cv\n",
        "import numpy as np\n",
        "from matplotlib import pyplot as plt\n",
        "np.set_printoptions(threshold=np.inf)"
      ],
      "metadata": {
        "id": "hZvSa0wmIskC"
      },
      "execution_count": null,
      "outputs": []
    },
    {
      "cell_type": "code",
      "source": [
        "IMG = Image.open('id.jpg')\n",
        "# IMG.save(\"id2.jpg\", dpi=(300,300))\n",
        "# IMG = Image.open('id.jpg')\n",
        "# IMG = cv.cvtColor(IMG, cv.COLOR_RGB2BGR)\n",
        "# IMG = IMG.convert(\"0\")\n",
        "# IMG = cv.imread('id.jpg', cv.IMREAD_GRAYSCALE)\n",
        "LANG = \"fas\"\n",
        "CONFIG = \"--psm 11 --oem 3\"\n",
        "print(pytesseract.image_to_string(IMG, lang=LANG))\n",
        "IMG"
      ],
      "metadata": {
        "id": "WJEEc9fqIhTz"
      },
      "execution_count": null,
      "outputs": []
    },
    {
      "cell_type": "markdown",
      "source": [
        "# **Split IMG**"
      ],
      "metadata": {
        "id": "Inyq9zBZFIo-"
      }
    },
    {
      "cell_type": "code",
      "source": [
        "img = cv.imread('id.jpg')\n",
        "main_img = img\n",
        "ret1,dst = cv.threshold(img, 127, 255, cv.THRESH_BINARY)\n",
        "\n",
        "\n",
        "new_dst = list()\n",
        "for row in dst:\n",
        "  tmp = list()\n",
        "  for pixel in row:\n",
        "    tmp.append(np.divide(np.sum(pixel), 3))\n",
        "  new_dst.append(tmp)\n",
        "dst = np.array(new_dst)\n",
        "# print(dst)\n",
        "\n",
        "\n",
        "cols = len(dst[0])\n",
        "rows = len(dst)\n",
        "print(cols, rows)\n",
        "\n",
        "def find_free_space(dst, cols, rows):\n",
        "  tmp_dst = dst.T\n",
        "  i = 0\n",
        "  while (np.divide(np.sum(tmp_dst[i]), rows) == 255):\n",
        "    i += 1\n",
        "  while i < cols:\n",
        "    if (np.divide(np.sum(tmp_dst[i]), rows) == 255):\n",
        "      return i\n",
        "    i += 1\n",
        "\n",
        "def split_img(img, dst):\n",
        "  for i in range(10):\n",
        "    split = find_free_space(dst, cols, rows)\n",
        "    print(split)\n",
        "    sub_img = img[:, :split]\n",
        "    img = img[:, split:]\n",
        "    dst = dst[:, split:]\n",
        "    \n",
        "    # plt.imshow(sub_img)\n",
        "    # plt.show()\n",
        "\n",
        "    name = \"subs/id\"+str(i)+\".png\"\n",
        "    cv.imwrite(name, sub_img)\n",
        "\n",
        "split_img(img, dst)\n",
        "\n",
        "\n",
        "\n",
        "\n"
      ],
      "metadata": {
        "id": "_IaLNvNp-zHo"
      },
      "execution_count": null,
      "outputs": []
    },
    {
      "cell_type": "code",
      "source": [
        "!rm -rf subs"
      ],
      "metadata": {
        "id": "9DaPJQbdI6VN"
      },
      "execution_count": null,
      "outputs": []
    },
    {
      "cell_type": "code",
      "source": [
        "!mkdir subs"
      ],
      "metadata": {
        "id": "ncg-OVRjVk2H"
      },
      "execution_count": null,
      "outputs": []
    },
    {
      "cell_type": "code",
      "source": [
        "%cd .."
      ],
      "metadata": {
        "id": "v4Katb9LVlX3"
      },
      "execution_count": null,
      "outputs": []
    },
    {
      "cell_type": "code",
      "source": [
        "!zip -r subs.zip subs"
      ],
      "metadata": {
        "id": "zqOinv7tq8Fm"
      },
      "execution_count": null,
      "outputs": []
    },
    {
      "cell_type": "code",
      "source": [
        ""
      ],
      "metadata": {
        "id": "zcJWjibtrE2C"
      },
      "execution_count": null,
      "outputs": []
    }
  ]
}